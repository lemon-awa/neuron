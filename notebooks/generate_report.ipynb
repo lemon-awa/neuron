{
 "cells": [
  {
   "cell_type": "code",
   "execution_count": 9,
   "metadata": {},
   "outputs": [
    {
     "name": "stdout",
     "output_type": "stream",
     "text": [
      "33079061\n",
      "29943729\n",
      "39038490\n",
      "38014328\n",
      "28489002\n",
      "33667373\n",
      "38712267\n",
      "32433963\n",
      "34230464\n",
      "24684937\n",
      "37163061\n",
      "29255026\n",
      "33770490\n",
      "39548088\n",
      "38948859\n",
      "24055154\n",
      "35353036\n",
      "22794255\n",
      "35833625\n",
      "32916090\n",
      "36352224\n",
      "29467404\n",
      "31488722\n",
      "38979352\n",
      "32894223\n"
     ]
    }
   ],
   "source": [
    "import random\n",
    "\n",
    "# Downsample to 25 papers\n",
    "with open(\"../assets/downsampled_pmids.txt\") as f:\n",
    "    pmids = f.readlines()\n",
    "    pmids = [x.strip() for x in pmids]\n",
    "\n",
    "# Randomly sample 25 PMIDs without replacement\n",
    "random.seed(42)\n",
    "sampled_pmids = random.sample(pmids, k=25)\n",
    "for pmid in sampled_pmids:\n",
    "    print(pmid)\n",
    "\n",
    "# Save the sampled PMIDs\n",
    "with open(\"../assets/downsampled_pmids_25.txt\", \"w\") as f:\n",
    "    for pmid in sampled_pmids:\n",
    "        f.write(f\"{pmid}\\n\")\n"
   ]
  },
  {
   "cell_type": "code",
   "execution_count": 7,
   "metadata": {},
   "outputs": [],
   "source": [
    "import json\n",
    "import sys\n",
    "\n",
    "sys.path.append(\"../python/extraction/\")\n",
    "\n",
    "import utils\n",
    "import markdown_pdf\n",
    "\n",
    "\n",
    "def extraction_to_markdown(path):\n",
    "    \"\"\"Convert cell type extraction JSON to markdown format.\n",
    "\n",
    "    Args:\n",
    "        path (str): Path to JSON file containing cell type extraction data\n",
    "\n",
    "    Returns:\n",
    "        str: Formatted markdown string containing paper details and cell type information\n",
    "    \"\"\"\n",
    "    with open(path, \"r\") as f:\n",
    "        data = json.load(f)\n",
    "\n",
    "    # Extract PMID from filename and create title section\n",
    "    pmid = path.split(\"/\")[-1].split(\".\")[0]\n",
    "    title = f\"# {pmid}\\nPaper link: https://pubmed.ncbi.nlm.nih.gov/{pmid}/\\n\"\n",
    "\n",
    "    markdown = \"\"\n",
    "    toc = []\n",
    "\n",
    "    # Get full paper text\n",
    "    paper = utils.Paper.from_pmid(pmid)\n",
    "    paper_str = paper.to_markdown()\n",
    "    paper_str = f\"## Full text\\n\\n{paper_str}\"\n",
    "    paper_str = paper_str.replace(\"\\n\", \"\\n\\n\")\n",
    "\n",
    "    # Process each cell type\n",
    "    for cell_type in data:\n",
    "        # Add to table of contents\n",
    "        link = cell_type[\"cell_type\"].lower().replace(\" \", \"-\")\n",
    "        toc.append(f\"- [{cell_type['cell_type']}](#{link})\")\n",
    "\n",
    "        # Add cell type section\n",
    "        markdown += f\"## {cell_type['cell_type']}\\n\"\n",
    "        markdown += f\"**Explanation:** {cell_type['explanation']}\\n\\n\"\n",
    "\n",
    "        # Add factoids\n",
    "        markdown += \"**Factoids:**\\n\\n\"\n",
    "        for factoid in cell_type[\"factoids\"]:\n",
    "            markdown += f\"- {factoid}\\n\"\n",
    "\n",
    "        # Add evidence\n",
    "        markdown += \"\\n**Evidence:**\\n\\n\"\n",
    "        for evidence in cell_type[\"metadata\"][\"evidence\"]:\n",
    "            sec, idx = evidence.split(\" \")\n",
    "            idx = int(idx) + 1\n",
    "            evidence = f\"{sec} {idx}\"\n",
    "            link = evidence.lower().replace(\" \", \"-\")\n",
    "            markdown += f\"- [{evidence}](#{link})\\n\"\n",
    "        markdown += \"\\n\"\n",
    "\n",
    "    # Combine all sections\n",
    "    toc = \"\\n\".join(toc)\n",
    "    return f\"{title}\\n{toc}\\n\\n{markdown}\\n\\n{paper_str}\""
   ]
  },
  {
   "cell_type": "code",
   "execution_count": 8,
   "metadata": {},
   "outputs": [
    {
     "name": "stderr",
     "output_type": "stream",
     "text": [
      "[WARNING] [makePDF] LaTeX Warning: Hyper reference `5th-s-lnv' on page 1\n",
      "  undefined on input line 69.\n",
      "[WARNING] [makePDF] LaTeX Warning: There were undefined references.\n"
     ]
    },
    {
     "data": {
      "text/plain": [
       "CompletedProcess(args=['pandoc', '-s', '-o', 'output.pdf', 'input.md'], returncode=0)"
      ]
     },
     "execution_count": 8,
     "metadata": {},
     "output_type": "execute_result"
    }
   ],
   "source": [
    "# Use pandoc to convert markdown to pdf\n",
    "import subprocess\n",
    "\n",
    "example_path = \"../assets/cell_types/gpt_4o/20471351.json\"\n",
    "markdown_text = extraction_to_markdown(example_path)\n",
    "with open(\"input.md\", \"w\") as f:\n",
    "    f.write(markdown_text)\n",
    "\n",
    "subprocess.run([\"pandoc\", \"-s\", \"-o\", \"output.pdf\", \"input.md\"])\n"
   ]
  },
  {
   "cell_type": "code",
   "execution_count": 12,
   "metadata": {},
   "outputs": [
    {
     "name": "stderr",
     "output_type": "stream",
     "text": [
      "Error producing PDF.\n",
      "! LaTeX Error: Unicode character α (U+03B1)\n",
      "               not set up for use with LaTeX.\n",
      "\n",
      "See the LaTeX manual or LaTeX Companion for explanation.\n",
      "Type  H <return>  for immediate help.\n",
      " ...                                              \n",
      "                                                  \n",
      "l.112   GluClα\n",
      "\n"
     ]
    },
    {
     "name": "stdout",
     "output_type": "stream",
     "text": [
      "Generated report for PMID 33079061\n"
     ]
    },
    {
     "name": "stderr",
     "output_type": "stream",
     "text": [
      "Error producing PDF.\n",
      "! LaTeX Error: Unicode character − (U+2212)\n",
      "               not set up for use with LaTeX.\n",
      "\n",
      "See the LaTeX manual or LaTeX Companion for explanation.\n",
      "Type  H <return>  for immediate help.\n",
      " ...                                              \n",
      "                                                  \n",
      "l.831 t~=~−\n",
      "\n"
     ]
    },
    {
     "name": "stdout",
     "output_type": "stream",
     "text": [
      "Generated report for PMID 29943729\n"
     ]
    },
    {
     "name": "stderr",
     "output_type": "stream",
     "text": [
      "Error producing PDF.\n",
      "! LaTeX Error: Unicode character γ (U+03B3)\n",
      "               not set up for use with LaTeX.\n",
      "\n",
      "See the LaTeX manual or LaTeX Companion for explanation.\n",
      "Type  H <return>  for immediate help.\n",
      " ...                                              \n",
      "                                                  \n",
      "l.65   \\hyperref[ppl1-ux3b31pedc]{PPL1-γ1pedc}\n",
      "\n"
     ]
    },
    {
     "name": "stdout",
     "output_type": "stream",
     "text": [
      "Generated report for PMID 39038490\n",
      "Generated report for PMID 38014328\n"
     ]
    },
    {
     "name": "stderr",
     "output_type": "stream",
     "text": [
      "Error producing PDF.\n",
      "! LaTeX Error: Unicode character κ (U+03BA)\n",
      "               not set up for use with LaTeX.\n",
      "\n",
      "See the LaTeX manual or LaTeX Companion for explanation.\n",
      "Type  H <return>  for immediate help.\n",
      " ...                                              \n",
      "                                                  \n",
      "l.117 SSR-localized NF-κ\n",
      "\n"
     ]
    },
    {
     "name": "stdout",
     "output_type": "stream",
     "text": [
      "Generated report for PMID 28489002\n"
     ]
    },
    {
     "name": "stderr",
     "output_type": "stream",
     "text": [
      "Error producing PDF.\n",
      "! LaTeX Error: Unicode character μ (U+03BC)\n",
      "               not set up for use with LaTeX.\n",
      "\n",
      "See the LaTeX manual or LaTeX Companion for explanation.\n",
      "Type  H <return>  for immediate help.\n",
      " ...                                              \n",
      "                                                  \n",
      "l.120 suggested to activate the cat μ\n",
      "\n"
     ]
    },
    {
     "name": "stdout",
     "output_type": "stream",
     "text": [
      "Generated report for PMID 33667373\n",
      "Generated report for PMID 38712267\n",
      "Generated report for PMID 32433963\n"
     ]
    },
    {
     "name": "stderr",
     "output_type": "stream",
     "text": [
      "Error producing PDF.\n",
      "! LaTeX Error: Unicode character λ (U+03BB)\n",
      "               not set up for use with LaTeX.\n",
      "\n",
      "See the LaTeX manual or LaTeX Companion for explanation.\n",
      "Type  H <return>  for immediate help.\n",
      " ...                                              \n",
      "                                                  \n",
      "l.250 Pagel’s λ\n",
      "\n"
     ]
    },
    {
     "name": "stdout",
     "output_type": "stream",
     "text": [
      "Generated report for PMID 34230464\n"
     ]
    },
    {
     "name": "stderr",
     "output_type": "stream",
     "text": [
      "Error producing PDF.\n",
      "! LaTeX Error: Unicode character γ (U+03B3)\n",
      "               not set up for use with LaTeX.\n",
      "\n",
      "See the LaTeX manual or LaTeX Companion for explanation.\n",
      "Type  H <return>  for immediate help.\n",
      " ...                                              \n",
      "                                                  \n",
      "l.73 ...yperref[ux3b3-lobe-neuron]{γ lobe neuron}\n",
      "\n"
     ]
    },
    {
     "name": "stdout",
     "output_type": "stream",
     "text": [
      "Generated report for PMID 24684937\n"
     ]
    },
    {
     "name": "stderr",
     "output_type": "stream",
     "text": [
      "Error producing PDF.\n",
      "! LaTeX Error: Unicode character − (U+2212)\n",
      "               not set up for use with LaTeX.\n",
      "\n",
      "See the LaTeX manual or LaTeX Companion for explanation.\n",
      "Type  H <return>  for immediate help.\n",
      " ...                                              \n",
      "                                                  \n",
      "l.179 ...ein of interest was tagged with a C’−\n",
      "\n"
     ]
    },
    {
     "name": "stdout",
     "output_type": "stream",
     "text": [
      "Generated report for PMID 37163061\n"
     ]
    },
    {
     "name": "stderr",
     "output_type": "stream",
     "text": [
      "Error producing PDF.\n",
      "! LaTeX Error: Unicode character Δ (U+0394)\n",
      "               not set up for use with LaTeX.\n",
      "\n",
      "See the LaTeX manual or LaTeX Companion for explanation.\n",
      "Type  H <return>  for immediate help.\n",
      " ...                                              \n",
      "                                                  \n",
      "l.719 ...ark environment. The calcium activity (Δ\n",
      "\n"
     ]
    },
    {
     "name": "stdout",
     "output_type": "stream",
     "text": [
      "Generated report for PMID 29255026\n"
     ]
    },
    {
     "name": "stderr",
     "output_type": "stream",
     "text": [
      "Error producing PDF.\n",
      "! LaTeX Error: Unicode character μ (U+03BC)\n",
      "               not set up for use with LaTeX.\n",
      "\n",
      "See the LaTeX manual or LaTeX Companion for explanation.\n",
      "Type  H <return>  for immediate help.\n",
      " ...                                              \n",
      "                                                  \n",
      "l.114 of 3 μ\n",
      "\n"
     ]
    },
    {
     "name": "stdout",
     "output_type": "stream",
     "text": [
      "Generated report for PMID 33770490\n"
     ]
    },
    {
     "name": "stderr",
     "output_type": "stream",
     "text": [
      "Error producing PDF.\n",
      "! LaTeX Error: Unicode character ˚ (U+02DA)\n",
      "               not set up for use with LaTeX.\n",
      "\n",
      "See the LaTeX manual or LaTeX Companion for explanation.\n",
      "Type  H <return>  for immediate help.\n",
      " ...                                              \n",
      "                                                  \n",
      "l.90   32˚\n",
      "\n"
     ]
    },
    {
     "name": "stdout",
     "output_type": "stream",
     "text": [
      "Generated report for PMID 39548088\n"
     ]
    },
    {
     "name": "stderr",
     "output_type": "stream",
     "text": [
      "[WARNING] [makePDF] LaTeX Warning: Hyper reference `19f' on page 1 undefined on\n",
      "  input line 61.\n",
      "[WARNING] [makePDF] LaTeX Warning: There were undefined references.\n"
     ]
    },
    {
     "name": "stdout",
     "output_type": "stream",
     "text": [
      "Generated report for PMID 38948859\n"
     ]
    },
    {
     "name": "stderr",
     "output_type": "stream",
     "text": [
      "Error producing PDF.\n",
      "! LaTeX Error: Unicode character α (U+03B1)\n",
      "               not set up for use with LaTeX.\n",
      "\n",
      "See the LaTeX manual or LaTeX Companion for explanation.\n",
      "Type  H <return>  for immediate help.\n",
      " ...                                              \n",
      "                                                  \n",
      "l.61 ...x2fux3b2ux2032-neuron]{α′/β′ neuron}\n",
      "\n"
     ]
    },
    {
     "name": "stdout",
     "output_type": "stream",
     "text": [
      "Generated report for PMID 24055154\n"
     ]
    },
    {
     "name": "stderr",
     "output_type": "stream",
     "text": [
      "Error producing PDF.\n",
      "! LaTeX Error: Unicode character μ (U+03BC)\n",
      "               not set up for use with LaTeX.\n",
      "\n",
      "See the LaTeX manual or LaTeX Companion for explanation.\n",
      "Type  H <return>  for immediate help.\n",
      " ...                                              \n",
      "                                                  \n",
      "l.397 ...the second instar. Larvae fed with 250 μ\n",
      "\n"
     ]
    },
    {
     "name": "stdout",
     "output_type": "stream",
     "text": [
      "Generated report for PMID 35353036\n",
      "Generated report for PMID 22794255\n"
     ]
    },
    {
     "name": "stderr",
     "output_type": "stream",
     "text": [
      "Error producing PDF.\n",
      "! LaTeX Error: Unicode character α (U+03B1)\n",
      "               not set up for use with LaTeX.\n",
      "\n",
      "See the LaTeX manual or LaTeX Companion for explanation.\n",
      "Type  H <return>  for immediate help.\n",
      " ...                                              \n",
      "                                                  \n",
      "l.304 ... the conserved VGCC regulatory subunit α\n",
      "\n"
     ]
    },
    {
     "name": "stdout",
     "output_type": "stream",
     "text": [
      "Generated report for PMID 35833625\n"
     ]
    },
    {
     "name": "stderr",
     "output_type": "stream",
     "text": [
      "Error producing PDF.\n",
      "! LaTeX Error: Unicode character Δ (U+0394)\n",
      "               not set up for use with LaTeX.\n",
      "\n",
      "See the LaTeX manual or LaTeX Companion for explanation.\n",
      "Type  H <return>  for immediate help.\n",
      " ...                                              \n",
      "                                                  \n",
      "l.69   \\hyperref[ux3b47]{Δ7}\n",
      "\n"
     ]
    },
    {
     "name": "stdout",
     "output_type": "stream",
     "text": [
      "Generated report for PMID 32916090\n"
     ]
    },
    {
     "name": "stderr",
     "output_type": "stream",
     "text": [
      "Error producing PDF.\n",
      "! LaTeX Error: Unicode character θ (U+03B8)\n",
      "               not set up for use with LaTeX.\n",
      "\n",
      "See the LaTeX manual or LaTeX Companion for explanation.\n",
      "Type  H <return>  for immediate help.\n",
      " ...                                              \n",
      "                                                  \n",
      "l.341 cases, the plots are well fit by Acosθ\n",
      "\n"
     ]
    },
    {
     "name": "stdout",
     "output_type": "stream",
     "text": [
      "Generated report for PMID 36352224\n"
     ]
    },
    {
     "name": "stderr",
     "output_type": "stream",
     "text": [
      "Error producing PDF.\n",
      "! LaTeX Error: Unicode character α (U+03B1)\n",
      "               not set up for use with LaTeX.\n",
      "\n",
      "See the LaTeX manual or LaTeX Companion for explanation.\n",
      "Type  H <return>  for immediate help.\n",
      " ...                                              \n",
      "                                                  \n",
      "l.101 of Inscuteable (Pins), and Gα\n",
      "\n"
     ]
    },
    {
     "name": "stdout",
     "output_type": "stream",
     "text": [
      "Generated report for PMID 29467404\n"
     ]
    },
    {
     "name": "stderr",
     "output_type": "stream",
     "text": [
      "Error producing PDF.\n",
      "! LaTeX Error: Unicode character γ (U+03B3)\n",
      "               not set up for use with LaTeX.\n",
      "\n",
      "See the LaTeX manual or LaTeX Companion for explanation.\n",
      "Type  H <return>  for immediate help.\n",
      " ...                                              \n",
      "                                                  \n",
      "l.61   \\hyperref[ux3b3-neuron]{γ-neuron}\n",
      "\n"
     ]
    },
    {
     "name": "stdout",
     "output_type": "stream",
     "text": [
      "Generated report for PMID 31488722\n"
     ]
    },
    {
     "name": "stderr",
     "output_type": "stream",
     "text": [
      "Error producing PDF.\n",
      "! LaTeX Error: Unicode character ᑎ (U+144E)\n",
      "               not set up for use with LaTeX.\n",
      "\n",
      "See the LaTeX manual or LaTeX Companion for explanation.\n",
      "Type  H <return>  for immediate help.\n",
      " ...                                              \n",
      "                                                  \n",
      "l.259 ...tion of 24C10-GAL4 and ppk-GAL4 (24C10ᑎ\n",
      "\n"
     ]
    },
    {
     "name": "stdout",
     "output_type": "stream",
     "text": [
      "Generated report for PMID 38979352\n",
      "Generated report for PMID 32894223\n"
     ]
    },
    {
     "name": "stderr",
     "output_type": "stream",
     "text": [
      "Error producing PDF.\n",
      "! LaTeX Error: Unicode character Δ (U+0394)\n",
      "               not set up for use with LaTeX.\n",
      "\n",
      "See the LaTeX manual or LaTeX Companion for explanation.\n",
      "Type  H <return>  for immediate help.\n",
      " ...                                              \n",
      "                                                  \n",
      "l.360 allele DroncΔ\n",
      "\n"
     ]
    }
   ],
   "source": [
    "import os\n",
    "import json\n",
    "\n",
    "# Create reports directory if it doesn't exist\n",
    "os.makedirs(\"../assets/reports\", exist_ok=True)\n",
    "\n",
    "# Load sampled PMIDs\n",
    "with open(\"../assets/downsampled_pmids_25.txt\") as f:\n",
    "    sampled_pmids = f.readlines()\n",
    "    sampled_pmids = [x.strip() for x in sampled_pmids]\n",
    "\n",
    "for pmid in sampled_pmids:\n",
    "    cell_type_file = f\"../assets/cell_types/gpt_4o/{pmid}.json\"\n",
    "\n",
    "    # Skip if cell type file doesn't exist\n",
    "    if not os.path.exists(cell_type_file):\n",
    "        print(f\"No cell type data found for PMID {pmid}, skipping...\")\n",
    "        continue\n",
    "\n",
    "    # Generate markdown\n",
    "    markdown_text = extraction_to_markdown(cell_type_file)\n",
    "\n",
    "    # Write markdown to temp file\n",
    "    with open(\"input.md\", \"w\") as f:\n",
    "        f.write(markdown_text)\n",
    "\n",
    "    # Generate PDF output path\n",
    "    pdf_path = f\"../assets/reports/{pmid}.pdf\"\n",
    "\n",
    "    # Convert to PDF using pandoc\n",
    "    subprocess.run([\"pandoc\", \"-s\", \"-o\", pdf_path, \"input.md\"])\n",
    "\n",
    "    print(f\"Generated report for PMID {pmid}\")\n",
    "\n",
    "# Clean up temp markdown file\n",
    "os.remove(\"input.md\")\n"
   ]
  }
 ],
 "metadata": {
  "kernelspec": {
   "display_name": "llm",
   "language": "python",
   "name": "python3"
  },
  "language_info": {
   "codemirror_mode": {
    "name": "ipython",
    "version": 3
   },
   "file_extension": ".py",
   "mimetype": "text/x-python",
   "name": "python",
   "nbconvert_exporter": "python",
   "pygments_lexer": "ipython3",
   "version": "3.9.19"
  }
 },
 "nbformat": 4,
 "nbformat_minor": 2
}
