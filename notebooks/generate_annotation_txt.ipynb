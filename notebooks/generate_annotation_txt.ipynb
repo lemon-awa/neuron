{
 "cells": [
  {
   "cell_type": "code",
   "execution_count": 4,
   "metadata": {},
   "outputs": [],
   "source": [
    "import sys\n",
    "import os\n",
    "\n",
    "sys.path.append(\"../python/extraction\")\n",
    "\n",
    "import pandas as pd\n",
    "from utils import get_paper_texts\n",
    "\n",
    "selected_papers = [\"30948249\", \"36599984\"]\n",
    "os.makedirs(\"../assets/annotation/\", exist_ok=True)\n",
    "\n",
    "for pmid in selected_papers:\n",
    "    texts = get_paper_texts(pmid)\n",
    "    with open(f\"../assets/annotation/{pmid}.txt\", \"w\") as f:\n",
    "        f.write(texts)\n"
   ]
  },
  {
   "cell_type": "code",
   "execution_count": 5,
   "metadata": {},
   "outputs": [],
   "source": [
    "# Scale up to all papers in assets/downsampled_pmids.txt\n",
    "with open(\"../assets/downsampled_pmids.txt\", \"r\") as f:\n",
    "    pmids = f.readlines()\n",
    "\n",
    "for pmid in pmids:\n",
    "    pmid = pmid.strip()\n",
    "    texts = get_paper_texts(pmid)\n",
    "    with open(f\"../assets/annotation/{pmid}.txt\", \"w\") as f:\n",
    "        f.write(texts)"
   ]
  }
 ],
 "metadata": {
  "kernelspec": {
   "display_name": "llm",
   "language": "python",
   "name": "python3"
  },
  "language_info": {
   "codemirror_mode": {
    "name": "ipython",
    "version": 3
   },
   "file_extension": ".py",
   "mimetype": "text/x-python",
   "name": "python",
   "nbconvert_exporter": "python",
   "pygments_lexer": "ipython3",
   "version": "3.9.19"
  }
 },
 "nbformat": 4,
 "nbformat_minor": 2
}
