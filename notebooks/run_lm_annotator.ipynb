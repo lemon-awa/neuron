{
 "cells": [
  {
   "cell_type": "code",
   "execution_count": 4,
   "metadata": {},
   "outputs": [],
   "source": [
    "import sys\n",
    "sys.path.append(\"../python/extraction\")\n",
    "\n",
    "import model"
   ]
  },
  {
   "cell_type": "code",
   "execution_count": 10,
   "metadata": {},
   "outputs": [
    {
     "name": "stdout",
     "output_type": "stream",
     "text": [
      "RESULTS: ['None']\n",
      "RESULTS: ['None']\n",
      "RESULTS: ['None']\n",
      "RESULTS: ['None']\n",
      "RESULTS: ['None']\n",
      "RESULTS: ['None']\n",
      "RESULTS: ['None']\n",
      "RESULTS: ['None']\n",
      "RESULTS: ['None']\n",
      "RESULTS: ['None']\n",
      "Found 0 candidate cell types: .\n",
      "Tokens Used: 12491\n",
      "\tPrompt Tokens: 12471\n",
      "\t\tPrompt Tokens Cached: 0\n",
      "\tCompletion Tokens: 20\n",
      "\t\tReasoning Tokens: 0\n",
      "Successful Requests: 10\n",
      "Total Cost (USD): $0.0313775\n"
     ]
    }
   ],
   "source": [
    "import os\n",
    "pmid_path = \"../assets/downsampled_pmids.txt\"\n",
    "rst_folder = \"../python/assets/cell_types/gpt_4o\"\n",
    "# existing_rst = os.listdir(rst_folder)\n",
    "# existing_pids = [rst.split(\".\")[0] for rst in existing_rst]\n",
    "# print(f\"len(existing_pids): {len(existing_pids)}\")\n",
    "\n",
    "# with open(pmid_path, \"r\") as f:\n",
    "#     pmids = f.readlines()\n",
    "\n",
    "pmids = ['23707427']\n",
    "for pmid in pmids:\n",
    "    pmid = pmid.strip()\n",
    "    # if pmid in existing_pids:\n",
    "    #     # print(f\"skipping {pmid} because it already exists\")\n",
    "    #     continue\n",
    "    !python ../python/extraction/model.py --pmid $pmid --model gpt-4o"
   ]
  },
  {
   "cell_type": "code",
   "execution_count": null,
   "metadata": {},
   "outputs": [],
   "source": []
  }
 ],
 "metadata": {
  "kernelspec": {
   "display_name": "opt",
   "language": "python",
   "name": "python3"
  },
  "language_info": {
   "codemirror_mode": {
    "name": "ipython",
    "version": 3
   },
   "file_extension": ".py",
   "mimetype": "text/x-python",
   "name": "python",
   "nbconvert_exporter": "python",
   "pygments_lexer": "ipython3",
   "version": "3.10.15"
  }
 },
 "nbformat": 4,
 "nbformat_minor": 2
}
